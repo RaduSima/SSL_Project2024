{
  "nbformat": 4,
  "nbformat_minor": 0,
  "metadata": {
    "colab": {
      "provenance": [],
      "gpuType": "T4",
      "authorship_tag": "ABX9TyPOki/b/VQ8ups8qMwp7W9q",
      "include_colab_link": true
    },
    "kernelspec": {
      "name": "python3",
      "display_name": "Python 3"
    },
    "language_info": {
      "name": "python"
    },
    "accelerator": "GPU"
  },
  "cells": [
    {
      "cell_type": "markdown",
      "metadata": {
        "id": "view-in-github",
        "colab_type": "text"
      },
      "source": [
        "<a href=\"https://colab.research.google.com/github/RaduSima/SSL_Project2024/blob/master/train.ipynb\" target=\"_parent\"><img src=\"https://colab.research.google.com/assets/colab-badge.svg\" alt=\"Open In Colab\"/></a>"
      ]
    },
    {
      "cell_type": "code",
      "source": [
        "# ! pip install datasets\n",
        "# ! pip install -U accelerate\n",
        "# ! pip install -U transformers\n",
        "\n",
        "import itertools\n",
        "\n",
        "import pandas as pd\n",
        "import torch\n",
        "import accelerate\n",
        "from transformers import BigBirdForSequenceClassification, BigBirdTokenizer, Trainer, TrainingArguments\n",
        "from datasets import Dataset\n",
        "\n",
        "\n",
        "import gc\n",
        "import numpy\n",
        "import pickle as pkl\n",
        "from sklearn.metrics import accuracy_score, f1_score, precision_score, recall_score"
      ],
      "metadata": {
        "id": "zTDO-OnwpYbJ"
      },
      "execution_count": 51,
      "outputs": []
    },
    {
      "cell_type": "code",
      "source": [
        "class OrdinalRegressionHead(torch.nn.Module):\n",
        "    \"\"\"\n",
        "    Ordinal regression head for classification problems. The way it works is by having a single layer that outputs a single value, which is then added to a learnable bias. The output is then passed through a sigmoid function.\n",
        "    The bias is a learnable parameter that is used to shift the output of the single layer to the desired range. It will be learned to have descending order.\n",
        "\n",
        "    class = sum(b_i > 0.5) + 1\n",
        "\n",
        "    class 1: 0, 0, 0, 0\n",
        "    class 2: 1, 0, 0, 0\n",
        "    class 3: 1, 1, 0, 0\n",
        "    class 4: 1, 1, 1, 0\n",
        "    class 5: 1, 1, 1, 1\n",
        "    and so on ...\n",
        "\n",
        "    TODO: should have more than one fc layer.\n",
        "    \"\"\"\n",
        "    def __init__(self, in_features, num_classes, intermediate_layers=None):\n",
        "        \"\"\"\n",
        "        The constructor for OrdinalRegressionHead class.\n",
        "\n",
        "        Parameters\n",
        "        ----------\n",
        "        in_features : int\n",
        "            The number of input features. This is the number of features of the output layer of the big model.\n",
        "        num_classes : int\n",
        "            The number of classes in the classification problem.\n",
        "        \"\"\"\n",
        "        super(OrdinalRegressionHead, self).__init__()\n",
        "\n",
        "        if intermediate_layers is None:\n",
        "            intermediate_layers = []\n",
        "\n",
        "        input_size = in_features\n",
        "        layers = []\n",
        "        for layer_size in intermediate_layers:\n",
        "            layers.append(torch.nn.Linear(input_size, layer_size))\n",
        "            layers.append(torch.nn.ReLU())\n",
        "            input_size = layer_size\n",
        "        layers.append(torch.nn.Linear(input_size, 1, bias=False))\n",
        "\n",
        "        self.fc = torch.nn.Sequential(*layers)\n",
        "\n",
        "        self.b = torch.nn.Parameter(torch.zeros(num_classes - 1))\n",
        "        self.activation = torch.nn.Sigmoid()\n",
        "\n",
        "    def forward(self, x):\n",
        "        \"\"\"\n",
        "        The forward method for OrdinalRegressionHead class.\n",
        "\n",
        "        Parameters\n",
        "        ----------\n",
        "        x : tensor\n",
        "            the input tensor.\n",
        "\n",
        "        Returns\n",
        "        -------\n",
        "        tuple(tensor, tensor)\n",
        "            The logits and the output of the model.\n",
        "            The logits are useful in the training phase, as BCEWithLogitsLoss is used.\n",
        "        \"\"\"\n",
        "        x = self.fc(x)\n",
        "        y = x + self.b\n",
        "        return y, self.activation(y)\n",
        "\n",
        "class OrdinalRegressionClassifier(torch.nn.Module):\n",
        "    def __init__(self, embeddings_size, num_classes, intermediate_layers=None) -> None:\n",
        "        super(OrdinalRegressionClassifier, self).__init__()\n",
        "        self.head = OrdinalRegressionHead(embeddings_size, num_classes, intermediate_layers)\n",
        "        self.loss = torch.nn.BCEWithLogitsLoss()\n",
        "\n",
        "    def forward(self, embeddings, labels):\n",
        "        logits, output = self.head(embeddings)\n",
        "        return self.loss(logits, labels), output\n"
      ],
      "metadata": {
        "id": "ZVfumPq-pu6Q"
      },
      "execution_count": 52,
      "outputs": []
    },
    {
      "cell_type": "code",
      "source": [
        "class OurBigBirdModel(torch.nn.Module):\n",
        "    \"\"\"\n",
        "    OurBigBirdModel class is a class for the model that uses the BigBird model and the OrdinalRegressionHead.\n",
        "    It uses the pretrained classifier of a BigBird model and adds an ordinal regression head on top of it.\n",
        "\n",
        "    \"\"\"\n",
        "    def __init__(self, bert, num_classes=5, intermediate_layers=None):\n",
        "        super(OurBigBirdModel, self).__init__()\n",
        "\n",
        "        self.bert = bert\n",
        "        # The output of the bert model is 768, as it is the output of the last hidden state.\n",
        "        self.classifier = OrdinalRegressionHead(768, num_classes, intermediate_layers=intermediate_layers)\n",
        "\n",
        "        self.loss = torch.nn.BCEWithLogitsLoss()\n",
        "\n",
        "    def forward(self, input_ids, attention_mask, labels):\n",
        "        \"\"\"\n",
        "        The forward method for OurBigBirdModel class.\n",
        "\n",
        "        Parameters\n",
        "        ----------\n",
        "        input_ids : tensor\n",
        "            The input tensor, used for bert.\n",
        "        attention_mask : tensor\n",
        "            The attention mask tensor, used for bert.\n",
        "        labels : tensor\n",
        "            The target labels for the classification problem.\n",
        "\n",
        "        Returns\n",
        "        -------\n",
        "        tuple(tensor, tensor)\n",
        "            The loss and the output of the model.\n",
        "            The loss is useful in the training phase, as we are using Trainer from HuggingFace.\n",
        "        \"\"\"\n",
        "        x = self.bert(input_ids, attention_mask=attention_mask).last_hidden_state[:, 0, :]\n",
        "        logits, output = self.classifier(x)\n",
        "        return self.loss(logits, labels), output\n",
        "\n",
        "class EmbeddingBigBirdModel(torch.nn.Module):\n",
        "    def __init__(self, bert):\n",
        "        super(EmbeddingBigBirdModel, self).__init__()\n",
        "        self.bert = bert\n",
        "        # The output of the bert model is 768, as it is the output of the last hidden state.\n",
        "        return\n",
        "\n",
        "    def forward(self, input_ids, attention_mask):\n",
        "        \"\"\"\n",
        "        The forward method for OurBigBirdModel class.\n",
        "\n",
        "        Parameters\n",
        "        ----------\n",
        "        input_ids : tensor\n",
        "            The input tensor, used for bert.\n",
        "        attention_mask : tensor\n",
        "            The attention mask tensor, used for bert.\n",
        "        labels : tensor\n",
        "            The target labels for the classification problem.\n",
        "\n",
        "        Returns\n",
        "        -------\n",
        "        tuple(tensor, tensor)\n",
        "            The loss and the output of the model.\n",
        "            The loss is useful in the training phase, as we are using Trainer from HuggingFace.\n",
        "        \"\"\"\n",
        "        return self.bert(input_ids, attention_mask=attention_mask).last_hidden_state[:, 0, :]"
      ],
      "metadata": {
        "id": "HKBpibKWpl7b"
      },
      "execution_count": 53,
      "outputs": []
    },
    {
      "cell_type": "code",
      "source": [
        "def remove_percentage(df, percent):\n",
        "    \"\"\"\n",
        "    Useful method for development purposes. It removes a percentage of the rows from the dataframe.\n",
        "\n",
        "    Parameters\n",
        "    ----------\n",
        "    df : dataframe\n",
        "        The dataframe to remove rows from.\n",
        "    percent : float\n",
        "        The percentage of rows to remove.\n",
        "\n",
        "    Returns\n",
        "    -------\n",
        "    dataframe\n",
        "        The dataframe with the rows removed.\n",
        "    \"\"\"\n",
        "    if percent == 0:\n",
        "        return df\n",
        "    numpy.random.seed(42)\n",
        "    num_rows_to_remove = int(len(df) * percent)\n",
        "    df_removed = df.sample(frac=1).iloc[num_rows_to_remove:]\n",
        "    return df_removed\n",
        "\n",
        "\n",
        "def convert_label_to_one_hot_encodings(labels: list[float], num_classes, max_label=3500):\n",
        "    \"\"\"\n",
        "    Convert the labels to a class representation. The class representation is a one-hot encoding of the labels.\n",
        "    This preparation is for the ordinal regression problem.\n",
        "\n",
        "    If the one-hot encoding of the label 3 for multi-class classification is [0, 0, 1, 0, 0],\n",
        "      then the one-hot encoding of label 3 for ordinal regression is [1, 1, 0, 0].\n",
        "\n",
        "    To convert from multi-class to ordinal regression, we can do the following trick:\n",
        "        - compute the one-hot encoding of the labels for multi-class classification\n",
        "        - replace all the 0s with 1s until the first 1 is found (for multi-class classification a 1 is found at the index of the class)\n",
        "        - remove the first column of the one-hot encoding (the first 1)\n",
        "\n",
        "    Parameters\n",
        "    ----------\n",
        "    labels : list[float]\n",
        "        The list of labels to convert.\n",
        "    num_classes : int\n",
        "        The number of classes in the classification problem.\n",
        "    max_label : int, optional\n",
        "        The maximum label in the dataset. This is used to normalize the labels. The default is 2800.\n",
        "\n",
        "    Returns\n",
        "    -------\n",
        "    tensor\n",
        "        The tensor of the one-hot encoding of the labels.\n",
        "    \"\"\"\n",
        "    # reminder: in ordinal regression, class = sum(output > 0.5) + 1\n",
        "\n",
        "    # normalize the labels\n",
        "    labels = numpy.array(labels) / max_label\n",
        "    class_labels = numpy.zeros((len(labels), num_classes - 1))\n",
        "    for i, label in enumerate(labels):\n",
        "        class_labels[i] = numpy.array(\n",
        "            [1 if j / num_classes <= label else 0 for j in range(1, num_classes)])\n",
        "    return torch.tensor(class_labels)\n",
        "\n",
        "\n",
        "def compute_metrics(pred):\n",
        "    \"\"\"\n",
        "    Compute the metrics for the model. The metrics are accuracy, recall, precision, f1, and neighborhood accuracy.\n",
        "\n",
        "    Parameters\n",
        "    ----------\n",
        "    pred : object\n",
        "        The predictions of the model, wrapped in an object by Hugging Face trainer.\n",
        "\n",
        "    Returns\n",
        "    -------\n",
        "    dict\n",
        "        The dictionary of the metrics.\n",
        "    \"\"\"\n",
        "    labels = pred.label_ids\n",
        "    preds = pred.predictions\n",
        "\n",
        "    return _compute_metrics(preds, labels)\n",
        "\n",
        "def _compute_metrics(preds, labels):\n",
        "    threshold = 0.5\n",
        "    target_class = numpy.sum(labels > threshold, axis=-1) + 1\n",
        "    output_class = numpy.sum(preds > threshold, axis=-1) + 1\n",
        "\n",
        "    # compute accuracy, recall, precision, f1 for threshold 0.5\n",
        "    accuracy = accuracy_score(target_class, output_class)\n",
        "    recall = recall_score(target_class, output_class, average='macro', zero_division=0)\n",
        "    precision = precision_score(target_class, output_class, average='macro', zero_division=0)\n",
        "    f1 = f1_score(target_class, output_class, average='macro', zero_division=0)\n",
        "\n",
        "    # compute neighborhood accuracy -- consider accurate all predictions that are off by 1\n",
        "    neighborhood_accuracy = numpy.sum(\n",
        "        numpy.abs(target_class - output_class) <= 1).item() / (len(labels) * 1.0)\n",
        "\n",
        "    return {\n",
        "        \"accuracy\": accuracy,\n",
        "        \"precision\": precision,\n",
        "        \"recall\": recall,\n",
        "        \"f1\": f1,\n",
        "        \"neighborhood_accuracy\": neighborhood_accuracy\n",
        "    }\n",
        "\n",
        "\n",
        "def get_embedding(model, encoding):\n",
        "    \"\"\"\n",
        "    Get the embedding from the model.\n",
        "\n",
        "    Parameters\n",
        "    ----------\n",
        "    model : torch.nn.Module\n",
        "        The model to get the embeddings from.\n",
        "    encoding : dict\n",
        "        The encoding of the text.\n",
        "\n",
        "    Returns\n",
        "    -------\n",
        "    tensor\n",
        "        The tensor of the embeddings.\n",
        "    \"\"\"\n",
        "    device = torch.device(\"cuda\" if torch.cuda.is_available() else \"cpu\")\n",
        "    input_ids = torch.tensor(encoding[\"input_ids\"]).to(device)\n",
        "    attention_mask = torch.tensor(encoding[\"attention_mask\"]).to(device)\n",
        "\n",
        "    model = model.to(device)\n",
        "    model.eval()\n",
        "    embeddings = []\n",
        "\n",
        "    with torch.no_grad():\n",
        "        for i in range(len(input_ids)):\n",
        "            embedding = model(input_ids[i].unsqueeze(0), attention_mask=attention_mask[i].unsqueeze(0)).to(device)\n",
        "            embeddings.append(embedding)\n",
        "            gc.collect()\n",
        "            torch.cuda.empty_cache()\n",
        "            print(f\"Status {i+1}/{len(input_ids)}\", end=\"\\r\")\n",
        "    print(\"Embeddings done.\")\n",
        "    embeddings = torch.cat(embeddings)\n",
        "    return embeddings\n",
        "\n",
        "def save_embedding(embeddings, filename):\n",
        "    \"\"\"\n",
        "    Save the embeddings to a file.\n",
        "\n",
        "    Parameters\n",
        "    ----------\n",
        "    embeddings : tensor\n",
        "        The tensor of the embeddings.\n",
        "    filename : str\n",
        "        The filename to save the embeddings to.\n",
        "    \"\"\"\n",
        "    with open(filename, 'wb') as f:\n",
        "        pkl.dump(embeddings, f)\n",
        "\n",
        "def load_embedding(filename):\n",
        "    \"\"\"\n",
        "    Load the embeddings from a file.\n",
        "\n",
        "    Parameters\n",
        "    ----------\n",
        "    filename : str\n",
        "        The filename to load the embeddings from.\n",
        "\n",
        "    Returns\n",
        "    -------\n",
        "    tensor\n",
        "        The tensor of the embeddings.\n",
        "    \"\"\"\n",
        "    with open(filename, 'rb') as f:\n",
        "        embeddings = pkl.load(f)\n",
        "    return embeddings\n"
      ],
      "metadata": {
        "id": "L3T_Y7UFp3Gl"
      },
      "execution_count": 54,
      "outputs": []
    },
    {
      "cell_type": "code",
      "execution_count": 55,
      "metadata": {
        "colab": {
          "base_uri": "https://localhost:8080/",
          "height": 1000
        },
        "id": "SOrHoB1JpOwX",
        "outputId": "3b9b17fe-1da5-4d07-fb4d-98d5750abd9e"
      },
      "outputs": [
        {
          "output_type": "display_data",
          "data": {
            "text/plain": [
              "<IPython.core.display.HTML object>"
            ],
            "text/html": [
              "\n",
              "    <div>\n",
              "      \n",
              "      <progress value='70' max='70' style='width:300px; height:20px; vertical-align: middle;'></progress>\n",
              "      [70/70 00:00, Epoch 10/10]\n",
              "    </div>\n",
              "    <table border=\"1\" class=\"dataframe\">\n",
              "  <thead>\n",
              " <tr style=\"text-align: left;\">\n",
              "      <th>Step</th>\n",
              "      <th>Training Loss</th>\n",
              "    </tr>\n",
              "  </thead>\n",
              "  <tbody>\n",
              "  </tbody>\n",
              "</table><p>"
            ]
          },
          "metadata": {}
        },
        {
          "output_type": "display_data",
          "data": {
            "text/plain": [
              "<IPython.core.display.HTML object>"
            ],
            "text/html": [
              "\n",
              "    <div>\n",
              "      \n",
              "      <progress value='4' max='2' style='width:300px; height:20px; vertical-align: middle;'></progress>\n",
              "      [2/2 00:12]\n",
              "    </div>\n",
              "    "
            ]
          },
          "metadata": {}
        },
        {
          "output_type": "display_data",
          "data": {
            "text/plain": [
              "<IPython.core.display.HTML object>"
            ],
            "text/html": [
              "\n",
              "    <div>\n",
              "      \n",
              "      <progress value='105' max='105' style='width:300px; height:20px; vertical-align: middle;'></progress>\n",
              "      [105/105 00:00, Epoch 15/15]\n",
              "    </div>\n",
              "    <table border=\"1\" class=\"dataframe\">\n",
              "  <thead>\n",
              " <tr style=\"text-align: left;\">\n",
              "      <th>Step</th>\n",
              "      <th>Training Loss</th>\n",
              "    </tr>\n",
              "  </thead>\n",
              "  <tbody>\n",
              "  </tbody>\n",
              "</table><p>"
            ]
          },
          "metadata": {}
        },
        {
          "output_type": "display_data",
          "data": {
            "text/plain": [
              "<IPython.core.display.HTML object>"
            ],
            "text/html": [
              "\n",
              "    <div>\n",
              "      \n",
              "      <progress value='2' max='2' style='width:300px; height:20px; vertical-align: middle;'></progress>\n",
              "      [2/2 00:00]\n",
              "    </div>\n",
              "    "
            ]
          },
          "metadata": {}
        },
        {
          "output_type": "display_data",
          "data": {
            "text/plain": [
              "<IPython.core.display.HTML object>"
            ],
            "text/html": [
              "\n",
              "    <div>\n",
              "      \n",
              "      <progress value='40' max='40' style='width:300px; height:20px; vertical-align: middle;'></progress>\n",
              "      [40/40 00:00, Epoch 10/10]\n",
              "    </div>\n",
              "    <table border=\"1\" class=\"dataframe\">\n",
              "  <thead>\n",
              " <tr style=\"text-align: left;\">\n",
              "      <th>Step</th>\n",
              "      <th>Training Loss</th>\n",
              "    </tr>\n",
              "  </thead>\n",
              "  <tbody>\n",
              "  </tbody>\n",
              "</table><p>"
            ]
          },
          "metadata": {}
        },
        {
          "output_type": "display_data",
          "data": {
            "text/plain": [
              "<IPython.core.display.HTML object>"
            ],
            "text/html": [
              "\n",
              "    <div>\n",
              "      \n",
              "      <progress value='1' max='1' style='width:300px; height:20px; vertical-align: middle;'></progress>\n",
              "      [1/1 : < :]\n",
              "    </div>\n",
              "    "
            ]
          },
          "metadata": {}
        },
        {
          "output_type": "display_data",
          "data": {
            "text/plain": [
              "<IPython.core.display.HTML object>"
            ],
            "text/html": [
              "\n",
              "    <div>\n",
              "      \n",
              "      <progress value='60' max='60' style='width:300px; height:20px; vertical-align: middle;'></progress>\n",
              "      [60/60 00:00, Epoch 15/15]\n",
              "    </div>\n",
              "    <table border=\"1\" class=\"dataframe\">\n",
              "  <thead>\n",
              " <tr style=\"text-align: left;\">\n",
              "      <th>Step</th>\n",
              "      <th>Training Loss</th>\n",
              "    </tr>\n",
              "  </thead>\n",
              "  <tbody>\n",
              "  </tbody>\n",
              "</table><p>"
            ]
          },
          "metadata": {}
        },
        {
          "output_type": "display_data",
          "data": {
            "text/plain": [
              "<IPython.core.display.HTML object>"
            ],
            "text/html": [
              "\n",
              "    <div>\n",
              "      \n",
              "      <progress value='1' max='1' style='width:300px; height:20px; vertical-align: middle;'></progress>\n",
              "      [1/1 : < :]\n",
              "    </div>\n",
              "    "
            ]
          },
          "metadata": {}
        },
        {
          "output_type": "display_data",
          "data": {
            "text/plain": [
              "<IPython.core.display.HTML object>"
            ],
            "text/html": [
              "\n",
              "    <div>\n",
              "      \n",
              "      <progress value='70' max='70' style='width:300px; height:20px; vertical-align: middle;'></progress>\n",
              "      [70/70 00:00, Epoch 10/10]\n",
              "    </div>\n",
              "    <table border=\"1\" class=\"dataframe\">\n",
              "  <thead>\n",
              " <tr style=\"text-align: left;\">\n",
              "      <th>Step</th>\n",
              "      <th>Training Loss</th>\n",
              "    </tr>\n",
              "  </thead>\n",
              "  <tbody>\n",
              "  </tbody>\n",
              "</table><p>"
            ]
          },
          "metadata": {}
        },
        {
          "output_type": "display_data",
          "data": {
            "text/plain": [
              "<IPython.core.display.HTML object>"
            ],
            "text/html": [
              "\n",
              "    <div>\n",
              "      \n",
              "      <progress value='2' max='2' style='width:300px; height:20px; vertical-align: middle;'></progress>\n",
              "      [2/2 00:00]\n",
              "    </div>\n",
              "    "
            ]
          },
          "metadata": {}
        },
        {
          "output_type": "display_data",
          "data": {
            "text/plain": [
              "<IPython.core.display.HTML object>"
            ],
            "text/html": [
              "\n",
              "    <div>\n",
              "      \n",
              "      <progress value='105' max='105' style='width:300px; height:20px; vertical-align: middle;'></progress>\n",
              "      [105/105 00:00, Epoch 15/15]\n",
              "    </div>\n",
              "    <table border=\"1\" class=\"dataframe\">\n",
              "  <thead>\n",
              " <tr style=\"text-align: left;\">\n",
              "      <th>Step</th>\n",
              "      <th>Training Loss</th>\n",
              "    </tr>\n",
              "  </thead>\n",
              "  <tbody>\n",
              "  </tbody>\n",
              "</table><p>"
            ]
          },
          "metadata": {}
        },
        {
          "output_type": "display_data",
          "data": {
            "text/plain": [
              "<IPython.core.display.HTML object>"
            ],
            "text/html": [
              "\n",
              "    <div>\n",
              "      \n",
              "      <progress value='2' max='2' style='width:300px; height:20px; vertical-align: middle;'></progress>\n",
              "      [2/2 00:00]\n",
              "    </div>\n",
              "    "
            ]
          },
          "metadata": {}
        },
        {
          "output_type": "display_data",
          "data": {
            "text/plain": [
              "<IPython.core.display.HTML object>"
            ],
            "text/html": [
              "\n",
              "    <div>\n",
              "      \n",
              "      <progress value='40' max='40' style='width:300px; height:20px; vertical-align: middle;'></progress>\n",
              "      [40/40 00:00, Epoch 10/10]\n",
              "    </div>\n",
              "    <table border=\"1\" class=\"dataframe\">\n",
              "  <thead>\n",
              " <tr style=\"text-align: left;\">\n",
              "      <th>Step</th>\n",
              "      <th>Training Loss</th>\n",
              "    </tr>\n",
              "  </thead>\n",
              "  <tbody>\n",
              "  </tbody>\n",
              "</table><p>"
            ]
          },
          "metadata": {}
        },
        {
          "output_type": "display_data",
          "data": {
            "text/plain": [
              "<IPython.core.display.HTML object>"
            ],
            "text/html": [
              "\n",
              "    <div>\n",
              "      \n",
              "      <progress value='1' max='1' style='width:300px; height:20px; vertical-align: middle;'></progress>\n",
              "      [1/1 : < :]\n",
              "    </div>\n",
              "    "
            ]
          },
          "metadata": {}
        },
        {
          "output_type": "display_data",
          "data": {
            "text/plain": [
              "<IPython.core.display.HTML object>"
            ],
            "text/html": [
              "\n",
              "    <div>\n",
              "      \n",
              "      <progress value='60' max='60' style='width:300px; height:20px; vertical-align: middle;'></progress>\n",
              "      [60/60 00:00, Epoch 15/15]\n",
              "    </div>\n",
              "    <table border=\"1\" class=\"dataframe\">\n",
              "  <thead>\n",
              " <tr style=\"text-align: left;\">\n",
              "      <th>Step</th>\n",
              "      <th>Training Loss</th>\n",
              "    </tr>\n",
              "  </thead>\n",
              "  <tbody>\n",
              "  </tbody>\n",
              "</table><p>"
            ]
          },
          "metadata": {}
        },
        {
          "output_type": "display_data",
          "data": {
            "text/plain": [
              "<IPython.core.display.HTML object>"
            ],
            "text/html": [
              "\n",
              "    <div>\n",
              "      \n",
              "      <progress value='1' max='1' style='width:300px; height:20px; vertical-align: middle;'></progress>\n",
              "      [1/1 : < :]\n",
              "    </div>\n",
              "    "
            ]
          },
          "metadata": {}
        },
        {
          "output_type": "display_data",
          "data": {
            "text/plain": [
              "<IPython.core.display.HTML object>"
            ],
            "text/html": [
              "\n",
              "    <div>\n",
              "      \n",
              "      <progress value='70' max='70' style='width:300px; height:20px; vertical-align: middle;'></progress>\n",
              "      [70/70 00:00, Epoch 10/10]\n",
              "    </div>\n",
              "    <table border=\"1\" class=\"dataframe\">\n",
              "  <thead>\n",
              " <tr style=\"text-align: left;\">\n",
              "      <th>Step</th>\n",
              "      <th>Training Loss</th>\n",
              "    </tr>\n",
              "  </thead>\n",
              "  <tbody>\n",
              "  </tbody>\n",
              "</table><p>"
            ]
          },
          "metadata": {}
        },
        {
          "output_type": "display_data",
          "data": {
            "text/plain": [
              "<IPython.core.display.HTML object>"
            ],
            "text/html": [
              "\n",
              "    <div>\n",
              "      \n",
              "      <progress value='2' max='2' style='width:300px; height:20px; vertical-align: middle;'></progress>\n",
              "      [2/2 00:00]\n",
              "    </div>\n",
              "    "
            ]
          },
          "metadata": {}
        },
        {
          "output_type": "display_data",
          "data": {
            "text/plain": [
              "<IPython.core.display.HTML object>"
            ],
            "text/html": [
              "\n",
              "    <div>\n",
              "      \n",
              "      <progress value='105' max='105' style='width:300px; height:20px; vertical-align: middle;'></progress>\n",
              "      [105/105 00:01, Epoch 15/15]\n",
              "    </div>\n",
              "    <table border=\"1\" class=\"dataframe\">\n",
              "  <thead>\n",
              " <tr style=\"text-align: left;\">\n",
              "      <th>Step</th>\n",
              "      <th>Training Loss</th>\n",
              "    </tr>\n",
              "  </thead>\n",
              "  <tbody>\n",
              "  </tbody>\n",
              "</table><p>"
            ]
          },
          "metadata": {}
        },
        {
          "output_type": "display_data",
          "data": {
            "text/plain": [
              "<IPython.core.display.HTML object>"
            ],
            "text/html": [
              "\n",
              "    <div>\n",
              "      \n",
              "      <progress value='2' max='2' style='width:300px; height:20px; vertical-align: middle;'></progress>\n",
              "      [2/2 00:00]\n",
              "    </div>\n",
              "    "
            ]
          },
          "metadata": {}
        },
        {
          "output_type": "display_data",
          "data": {
            "text/plain": [
              "<IPython.core.display.HTML object>"
            ],
            "text/html": [
              "\n",
              "    <div>\n",
              "      \n",
              "      <progress value='40' max='40' style='width:300px; height:20px; vertical-align: middle;'></progress>\n",
              "      [40/40 00:00, Epoch 10/10]\n",
              "    </div>\n",
              "    <table border=\"1\" class=\"dataframe\">\n",
              "  <thead>\n",
              " <tr style=\"text-align: left;\">\n",
              "      <th>Step</th>\n",
              "      <th>Training Loss</th>\n",
              "    </tr>\n",
              "  </thead>\n",
              "  <tbody>\n",
              "  </tbody>\n",
              "</table><p>"
            ]
          },
          "metadata": {}
        },
        {
          "output_type": "display_data",
          "data": {
            "text/plain": [
              "<IPython.core.display.HTML object>"
            ],
            "text/html": [
              "\n",
              "    <div>\n",
              "      \n",
              "      <progress value='1' max='1' style='width:300px; height:20px; vertical-align: middle;'></progress>\n",
              "      [1/1 : < :]\n",
              "    </div>\n",
              "    "
            ]
          },
          "metadata": {}
        },
        {
          "output_type": "display_data",
          "data": {
            "text/plain": [
              "<IPython.core.display.HTML object>"
            ],
            "text/html": [
              "\n",
              "    <div>\n",
              "      \n",
              "      <progress value='60' max='60' style='width:300px; height:20px; vertical-align: middle;'></progress>\n",
              "      [60/60 00:00, Epoch 15/15]\n",
              "    </div>\n",
              "    <table border=\"1\" class=\"dataframe\">\n",
              "  <thead>\n",
              " <tr style=\"text-align: left;\">\n",
              "      <th>Step</th>\n",
              "      <th>Training Loss</th>\n",
              "    </tr>\n",
              "  </thead>\n",
              "  <tbody>\n",
              "  </tbody>\n",
              "</table><p>"
            ]
          },
          "metadata": {}
        },
        {
          "output_type": "display_data",
          "data": {
            "text/plain": [
              "<IPython.core.display.HTML object>"
            ],
            "text/html": [
              "\n",
              "    <div>\n",
              "      \n",
              "      <progress value='1' max='1' style='width:300px; height:20px; vertical-align: middle;'></progress>\n",
              "      [1/1 : < :]\n",
              "    </div>\n",
              "    "
            ]
          },
          "metadata": {}
        },
        {
          "output_type": "stream",
          "name": "stdout",
          "text": [
            "Best Evaluation Metric: 0.3\n",
            "Best Hyperparameters: (1e-05, 8, 10)\n",
            "{'eval_loss': 0.6714418530464172, 'eval_accuracy': 0.3, 'eval_precision': 0.075, 'eval_recall': 0.25, 'eval_f1': 0.11538461538461538, 'eval_neighborhood_accuracy': 0.7, 'eval_runtime': 0.0208, 'eval_samples_per_second': 481.584, 'eval_steps_per_second': 96.317, 'epoch': 10.0}\n"
          ]
        }
      ],
      "source": [
        "if __name__ == '__main__':\n",
        "    #num_epochs = 200\n",
        "    num_classes = 5\n",
        "    percentage_to_remove = 50\n",
        "\n",
        "    load_embeddings = False\n",
        "\n",
        "    train_data = pd.read_csv('./data/AMT10/AMT10_train.csv')\n",
        "    val_data = pd.read_csv('./data/AMT10/AMT10_validation.csv')\n",
        "    test_data = pd.read_csv('./data/AMT10/AMT10_test.csv')\n",
        "\n",
        "    train_data = remove_percentage(train_data, percentage_to_remove)\n",
        "    val_data = remove_percentage(val_data, percentage_to_remove)\n",
        "    test_data = remove_percentage(test_data, percentage_to_remove)\n",
        "\n",
        "    train_texts, train_labels = train_data['description'].tolist(), train_data['rating'].tolist()\n",
        "    val_texts, val_labels = val_data['description'].tolist(), val_data['rating'].tolist()\n",
        "    test_texts, test_labels = test_data['description'].tolist(), test_data['rating'].tolist()\n",
        "\n",
        "    if load_embeddings:\n",
        "        train_embeddings = load_embedding('./data/AMT10/train_embeddings.pkl')\n",
        "        train_embeddings = torch.tensor(train_embeddings)\n",
        "        val_embeddings = load_embedding('./data/AMT10/val_embeddings.pkl')\n",
        "        val_embeddings = torch.tensor(val_embeddings)\n",
        "        test_embeddings = load_embedding('./data/AMT10/test_embeddings.pkl')\n",
        "        test_embeddings = torch.tensor(test_embeddings)\n",
        "    else:\n",
        "        model_name = \"google/bigbird-roberta-base\"\n",
        "        tokenizer = BigBirdTokenizer.from_pretrained(model_name)\n",
        "        model = BigBirdForSequenceClassification.from_pretrained(model_name)\n",
        "\n",
        "        train_encodings = tokenizer(train_texts, truncation=True, padding=True)\n",
        "        val_encodings = tokenizer(val_texts, truncation=True, padding=True)\n",
        "        test_encodings = tokenizer(test_texts, truncation=True, padding=True)\n",
        "\n",
        "        embedding_model = EmbeddingBigBirdModel(model.bert)\n",
        "        embedding_model.eval()\n",
        "\n",
        "        train_embeddings = get_embedding(embedding_model, train_encodings)\n",
        "        val_embeddings = get_embedding(embedding_model, val_encodings)\n",
        "        test_embeddings = get_embedding(embedding_model, test_encodings)\n",
        "\n",
        "        device = torch.device(\"cuda\" if torch.cuda.is_available() else \"cpu\")\n",
        "        print(device)\n",
        "        save_embedding(train_embeddings.cpu().numpy(), './data/AMT10/train_embeddings.pkl')\n",
        "        save_embedding(val_embeddings.cpu().numpy(), './data/AMT10/val_embeddings.pkl')\n",
        "        save_embedding(test_embeddings.cpu().numpy(), './data/AMT10/test_embeddings.pkl')\n",
        "\n",
        "    to_train_model = OrdinalRegressionClassifier(embeddings_size=768, num_classes=num_classes, intermediate_layers=[512, 128, 32])\n",
        "    train_labels_tensor = convert_label_to_one_hot_encodings(train_labels, num_classes=num_classes)\n",
        "    val_labels_tensor = convert_label_to_one_hot_encodings(val_labels, num_classes=num_classes)\n",
        "    test_labels_tensor = convert_label_to_one_hot_encodings(test_labels, num_classes=num_classes)\n",
        "\n",
        "    train_dataset = Dataset.from_dict(\n",
        "        {\n",
        "        \"embeddings\": train_embeddings,\n",
        "        \"labels\": train_labels_tensor\n",
        "        })\n",
        "\n",
        "    val_dataset = Dataset.from_dict(\n",
        "        {\n",
        "        \"embeddings\": val_embeddings,\n",
        "        \"labels\": val_labels_tensor\n",
        "\n",
        "        })\n",
        "\n",
        "    test_dataset = Dataset.from_dict(\n",
        "        {\n",
        "        \"embeddings\": test_embeddings,\n",
        "        \"labels\": test_labels_tensor\n",
        "        })\n",
        "\n",
        "    param_grid = {\n",
        "        'learning_rate': [1e-5, 3e-5, 5e-5],\n",
        "        'per_device_train_batch_size': [8, 16],\n",
        "        'num_train_epochs': [10, 15],\n",
        "    }\n",
        "\n",
        "    param_combinations = list(itertools.product(*param_grid.values()))\n",
        "\n",
        "    best_eval_metric = float('-inf')\n",
        "    best_params = None\n",
        "    best_trainer = None\n",
        "\n",
        "    for params in param_combinations:\n",
        "        learning_rate, train_batch_size, num_epochs = params\n",
        "\n",
        "        training_args = TrainingArguments(\n",
        "        learning_rate=learning_rate,\n",
        "        output_dir=\"./results\",\n",
        "        num_train_epochs=num_epochs,\n",
        "        per_device_train_batch_size=train_batch_size,\n",
        "        per_device_eval_batch_size=train_batch_size,\n",
        "        warmup_steps=500,\n",
        "        weight_decay=0.01,\n",
        "        logging_dir=\"./logs\",\n",
        "        )\n",
        "\n",
        "        trainer = Trainer(\n",
        "            model=to_train_model,\n",
        "            args=training_args,\n",
        "            train_dataset=train_dataset,\n",
        "            eval_dataset=val_dataset,\n",
        "            compute_metrics=compute_metrics\n",
        "        )\n",
        "\n",
        "        trainer.train()\n",
        "\n",
        "        eval_results = trainer.evaluate(test_dataset)\n",
        "\n",
        "        eval_metric = eval_results['eval_accuracy']\n",
        "\n",
        "        if eval_metric > best_eval_metric:\n",
        "            best_eval_metric = eval_metric\n",
        "            best_params = params\n",
        "            best_trainer = trainer\n",
        "\n",
        "    print(f\"Best Evaluation Metric: {best_eval_metric}\")\n",
        "    print(f\"Best Hyperparameters: {best_params}\")\n",
        "\n",
        "    # Evaluate the model on the testing set\n",
        "    eval_results = best_trainer.evaluate(test_dataset)\n",
        "    print(eval_results)\n",
        "\n",
        "    torch.save(best_trainer.model.state_dict(), \"./models/ordinal_regression_model.pth\")\n"
      ]
    }
  ]
}